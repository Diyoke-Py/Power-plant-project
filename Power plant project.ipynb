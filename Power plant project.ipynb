{
 "cells": [
  {
   "cell_type": "code",
   "execution_count": 1,
   "metadata": {},
   "outputs": [],
   "source": [
    "import pandas as pd"
   ]
  },
  {
   "cell_type": "code",
   "execution_count": 2,
   "metadata": {
    "scrolled": true
   },
   "outputs": [],
   "source": [
    "import numpy as np\n",
    "import matplotlib.pyplot as plt\n",
    "%matplotlib inline\n",
    "import seaborn as sns"
   ]
  },
  {
   "cell_type": "code",
   "execution_count": 3,
   "metadata": {},
   "outputs": [],
   "source": [
    "#fuel_data = pd.read_csv('https://raw.githubusercontent.com/WalePhenomenon/climate_change/master/fuel_ferc1.csv')"
   ]
  },
  {
   "cell_type": "code",
   "execution_count": 4,
   "metadata": {},
   "outputs": [],
   "source": [
    "fuel_data = pd.read_csv('fuel_data.csv')"
   ]
  },
  {
   "cell_type": "code",
   "execution_count": 5,
   "metadata": {},
   "outputs": [
    {
     "data": {
      "text/html": [
       "<div>\n",
       "<style scoped>\n",
       "    .dataframe tbody tr th:only-of-type {\n",
       "        vertical-align: middle;\n",
       "    }\n",
       "\n",
       "    .dataframe tbody tr th {\n",
       "        vertical-align: top;\n",
       "    }\n",
       "\n",
       "    .dataframe thead th {\n",
       "        text-align: right;\n",
       "    }\n",
       "</style>\n",
       "<table border=\"1\" class=\"dataframe\">\n",
       "  <thead>\n",
       "    <tr style=\"text-align: right;\">\n",
       "      <th></th>\n",
       "      <th>record_id</th>\n",
       "      <th>utility_id_ferc1</th>\n",
       "      <th>report_year</th>\n",
       "      <th>plant_name_ferc1</th>\n",
       "      <th>fuel_type_code_pudl</th>\n",
       "      <th>fuel_unit</th>\n",
       "      <th>fuel_qty_burned</th>\n",
       "      <th>fuel_mmbtu_per_unit</th>\n",
       "      <th>fuel_cost_per_unit_burned</th>\n",
       "      <th>fuel_cost_per_unit_delivered</th>\n",
       "      <th>fuel_cost_per_mmbtu</th>\n",
       "    </tr>\n",
       "  </thead>\n",
       "  <tbody>\n",
       "    <tr>\n",
       "      <th>0</th>\n",
       "      <td>f1_fuel_1994_12_1_0_7</td>\n",
       "      <td>1</td>\n",
       "      <td>1994</td>\n",
       "      <td>rockport</td>\n",
       "      <td>coal</td>\n",
       "      <td>ton</td>\n",
       "      <td>5377489.0</td>\n",
       "      <td>16.590</td>\n",
       "      <td>18.59</td>\n",
       "      <td>18.53</td>\n",
       "      <td>1.121</td>\n",
       "    </tr>\n",
       "    <tr>\n",
       "      <th>1</th>\n",
       "      <td>f1_fuel_1994_12_1_0_10</td>\n",
       "      <td>1</td>\n",
       "      <td>1994</td>\n",
       "      <td>rockport total plant</td>\n",
       "      <td>coal</td>\n",
       "      <td>ton</td>\n",
       "      <td>10486945.0</td>\n",
       "      <td>16.592</td>\n",
       "      <td>18.58</td>\n",
       "      <td>18.53</td>\n",
       "      <td>1.120</td>\n",
       "    </tr>\n",
       "    <tr>\n",
       "      <th>2</th>\n",
       "      <td>f1_fuel_1994_12_2_0_1</td>\n",
       "      <td>2</td>\n",
       "      <td>1994</td>\n",
       "      <td>gorgas</td>\n",
       "      <td>coal</td>\n",
       "      <td>ton</td>\n",
       "      <td>2978683.0</td>\n",
       "      <td>24.130</td>\n",
       "      <td>39.72</td>\n",
       "      <td>38.12</td>\n",
       "      <td>1.650</td>\n",
       "    </tr>\n",
       "    <tr>\n",
       "      <th>3</th>\n",
       "      <td>f1_fuel_1994_12_2_0_7</td>\n",
       "      <td>2</td>\n",
       "      <td>1994</td>\n",
       "      <td>barry</td>\n",
       "      <td>coal</td>\n",
       "      <td>ton</td>\n",
       "      <td>3739484.0</td>\n",
       "      <td>23.950</td>\n",
       "      <td>47.21</td>\n",
       "      <td>45.99</td>\n",
       "      <td>1.970</td>\n",
       "    </tr>\n",
       "    <tr>\n",
       "      <th>4</th>\n",
       "      <td>f1_fuel_1994_12_2_0_10</td>\n",
       "      <td>2</td>\n",
       "      <td>1994</td>\n",
       "      <td>chickasaw</td>\n",
       "      <td>gas</td>\n",
       "      <td>mcf</td>\n",
       "      <td>40533.0</td>\n",
       "      <td>1.000</td>\n",
       "      <td>2.77</td>\n",
       "      <td>2.77</td>\n",
       "      <td>2.570</td>\n",
       "    </tr>\n",
       "  </tbody>\n",
       "</table>\n",
       "</div>"
      ],
      "text/plain": [
       "                record_id  utility_id_ferc1  report_year  \\\n",
       "0   f1_fuel_1994_12_1_0_7                 1         1994   \n",
       "1  f1_fuel_1994_12_1_0_10                 1         1994   \n",
       "2   f1_fuel_1994_12_2_0_1                 2         1994   \n",
       "3   f1_fuel_1994_12_2_0_7                 2         1994   \n",
       "4  f1_fuel_1994_12_2_0_10                 2         1994   \n",
       "\n",
       "       plant_name_ferc1 fuel_type_code_pudl fuel_unit  fuel_qty_burned  \\\n",
       "0              rockport                coal       ton        5377489.0   \n",
       "1  rockport total plant                coal       ton       10486945.0   \n",
       "2                gorgas                coal       ton        2978683.0   \n",
       "3                 barry                coal       ton        3739484.0   \n",
       "4             chickasaw                 gas       mcf          40533.0   \n",
       "\n",
       "   fuel_mmbtu_per_unit  fuel_cost_per_unit_burned  \\\n",
       "0               16.590                      18.59   \n",
       "1               16.592                      18.58   \n",
       "2               24.130                      39.72   \n",
       "3               23.950                      47.21   \n",
       "4                1.000                       2.77   \n",
       "\n",
       "   fuel_cost_per_unit_delivered  fuel_cost_per_mmbtu  \n",
       "0                         18.53                1.121  \n",
       "1                         18.53                1.120  \n",
       "2                         38.12                1.650  \n",
       "3                         45.99                1.970  \n",
       "4                          2.77                2.570  "
      ]
     },
     "execution_count": 5,
     "metadata": {},
     "output_type": "execute_result"
    }
   ],
   "source": [
    "fuel_data.head() #checks out the first five rows of fuel_data dataframe"
   ]
  },
  {
   "cell_type": "code",
   "execution_count": 6,
   "metadata": {},
   "outputs": [
    {
     "name": "stdout",
     "output_type": "stream",
     "text": [
      "<class 'pandas.core.frame.DataFrame'>\n",
      "RangeIndex: 29523 entries, 0 to 29522\n",
      "Data columns (total 11 columns):\n",
      " #   Column                        Non-Null Count  Dtype  \n",
      "---  ------                        --------------  -----  \n",
      " 0   record_id                     29523 non-null  object \n",
      " 1   utility_id_ferc1              29523 non-null  int64  \n",
      " 2   report_year                   29523 non-null  int64  \n",
      " 3   plant_name_ferc1              29523 non-null  object \n",
      " 4   fuel_type_code_pudl           29523 non-null  object \n",
      " 5   fuel_unit                     29343 non-null  object \n",
      " 6   fuel_qty_burned               29523 non-null  float64\n",
      " 7   fuel_mmbtu_per_unit           29523 non-null  float64\n",
      " 8   fuel_cost_per_unit_burned     29523 non-null  float64\n",
      " 9   fuel_cost_per_unit_delivered  29523 non-null  float64\n",
      " 10  fuel_cost_per_mmbtu           29523 non-null  float64\n",
      "dtypes: float64(5), int64(2), object(4)\n",
      "memory usage: 2.5+ MB\n"
     ]
    }
   ],
   "source": [
    "fuel_data.info() #basic info about the dataframe"
   ]
  },
  {
   "cell_type": "code",
   "execution_count": 7,
   "metadata": {},
   "outputs": [
    {
     "data": {
      "text/plain": [
       "record_id                         0\n",
       "utility_id_ferc1                  0\n",
       "report_year                       0\n",
       "plant_name_ferc1                  0\n",
       "fuel_type_code_pudl               0\n",
       "fuel_unit                       180\n",
       "fuel_qty_burned                   0\n",
       "fuel_mmbtu_per_unit               0\n",
       "fuel_cost_per_unit_burned         0\n",
       "fuel_cost_per_unit_delivered      0\n",
       "fuel_cost_per_mmbtu               0\n",
       "dtype: int64"
      ]
     },
     "execution_count": 7,
     "metadata": {},
     "output_type": "execute_result"
    }
   ],
   "source": [
    "fuel_data.isnull().sum() #checks total total number of missing values"
   ]
  },
  {
   "cell_type": "code",
   "execution_count": 8,
   "metadata": {},
   "outputs": [],
   "source": [
    "fuel_data['fuel_unit'].fillna('mcf', inplace = True) #fills the missing elements in the dataframe with 'mcf'"
   ]
  },
  {
   "cell_type": "code",
   "execution_count": 9,
   "metadata": {},
   "outputs": [
    {
     "data": {
      "text/html": [
       "<div>\n",
       "<style scoped>\n",
       "    .dataframe tbody tr th:only-of-type {\n",
       "        vertical-align: middle;\n",
       "    }\n",
       "\n",
       "    .dataframe tbody tr th {\n",
       "        vertical-align: top;\n",
       "    }\n",
       "\n",
       "    .dataframe thead th {\n",
       "        text-align: right;\n",
       "    }\n",
       "</style>\n",
       "<table border=\"1\" class=\"dataframe\">\n",
       "  <thead>\n",
       "    <tr style=\"text-align: right;\">\n",
       "      <th></th>\n",
       "      <th>record_id</th>\n",
       "      <th>utility_id_ferc1</th>\n",
       "      <th>report_year</th>\n",
       "      <th>plant_name_ferc1</th>\n",
       "      <th>fuel_type_code_pudl</th>\n",
       "      <th>fuel_unit</th>\n",
       "      <th>fuel_qty_burned</th>\n",
       "      <th>fuel_mmbtu_per_unit</th>\n",
       "      <th>fuel_cost_per_unit_burned</th>\n",
       "      <th>fuel_cost_per_unit_delivered</th>\n",
       "      <th>fuel_cost_per_mmbtu</th>\n",
       "    </tr>\n",
       "  </thead>\n",
       "  <tbody>\n",
       "    <tr>\n",
       "      <th>0</th>\n",
       "      <td>f1_fuel_1994_12_1_0_7</td>\n",
       "      <td>1</td>\n",
       "      <td>1994</td>\n",
       "      <td>rockport</td>\n",
       "      <td>coal</td>\n",
       "      <td>ton</td>\n",
       "      <td>5377489.0</td>\n",
       "      <td>16.590000</td>\n",
       "      <td>18.59</td>\n",
       "      <td>18.53</td>\n",
       "      <td>1.121</td>\n",
       "    </tr>\n",
       "    <tr>\n",
       "      <th>1</th>\n",
       "      <td>f1_fuel_1994_12_1_0_10</td>\n",
       "      <td>1</td>\n",
       "      <td>1994</td>\n",
       "      <td>rockport total plant</td>\n",
       "      <td>coal</td>\n",
       "      <td>ton</td>\n",
       "      <td>10486945.0</td>\n",
       "      <td>16.592000</td>\n",
       "      <td>18.58</td>\n",
       "      <td>18.53</td>\n",
       "      <td>1.120</td>\n",
       "    </tr>\n",
       "    <tr>\n",
       "      <th>2</th>\n",
       "      <td>f1_fuel_1994_12_2_0_1</td>\n",
       "      <td>2</td>\n",
       "      <td>1994</td>\n",
       "      <td>gorgas</td>\n",
       "      <td>coal</td>\n",
       "      <td>ton</td>\n",
       "      <td>2978683.0</td>\n",
       "      <td>24.130000</td>\n",
       "      <td>39.72</td>\n",
       "      <td>38.12</td>\n",
       "      <td>1.650</td>\n",
       "    </tr>\n",
       "    <tr>\n",
       "      <th>3</th>\n",
       "      <td>f1_fuel_1994_12_2_0_7</td>\n",
       "      <td>2</td>\n",
       "      <td>1994</td>\n",
       "      <td>barry</td>\n",
       "      <td>coal</td>\n",
       "      <td>ton</td>\n",
       "      <td>3739484.0</td>\n",
       "      <td>23.950000</td>\n",
       "      <td>47.21</td>\n",
       "      <td>45.99</td>\n",
       "      <td>1.970</td>\n",
       "    </tr>\n",
       "    <tr>\n",
       "      <th>4</th>\n",
       "      <td>f1_fuel_1994_12_2_0_10</td>\n",
       "      <td>2</td>\n",
       "      <td>1994</td>\n",
       "      <td>chickasaw</td>\n",
       "      <td>gas</td>\n",
       "      <td>mcf</td>\n",
       "      <td>40533.0</td>\n",
       "      <td>1.000000</td>\n",
       "      <td>2.77</td>\n",
       "      <td>2.77</td>\n",
       "      <td>2.570</td>\n",
       "    </tr>\n",
       "    <tr>\n",
       "      <th>5</th>\n",
       "      <td>f1_fuel_1994_12_2_0_13</td>\n",
       "      <td>2</td>\n",
       "      <td>1994</td>\n",
       "      <td>e. c. gaston-unit 5</td>\n",
       "      <td>coal</td>\n",
       "      <td>ton</td>\n",
       "      <td>2124933.0</td>\n",
       "      <td>23.922000</td>\n",
       "      <td>44.24</td>\n",
       "      <td>43.25</td>\n",
       "      <td>1.850</td>\n",
       "    </tr>\n",
       "    <tr>\n",
       "      <th>6</th>\n",
       "      <td>f1_fuel_1994_12_2_1_1</td>\n",
       "      <td>2</td>\n",
       "      <td>1994</td>\n",
       "      <td>joseph m. farley</td>\n",
       "      <td>nuclear</td>\n",
       "      <td>kgU</td>\n",
       "      <td>2260.0</td>\n",
       "      <td>0.064094</td>\n",
       "      <td>28.77</td>\n",
       "      <td>0.00</td>\n",
       "      <td>0.450</td>\n",
       "    </tr>\n",
       "    <tr>\n",
       "      <th>7</th>\n",
       "      <td>f1_fuel_1994_12_2_1_10</td>\n",
       "      <td>2</td>\n",
       "      <td>1994</td>\n",
       "      <td>resondent's portion</td>\n",
       "      <td>coal</td>\n",
       "      <td>ton</td>\n",
       "      <td>5372133.0</td>\n",
       "      <td>24.840000</td>\n",
       "      <td>58.54</td>\n",
       "      <td>55.13</td>\n",
       "      <td>2.360</td>\n",
       "    </tr>\n",
       "    <tr>\n",
       "      <th>8</th>\n",
       "      <td>f1_fuel_1994_12_2_2_10</td>\n",
       "      <td>2</td>\n",
       "      <td>1994</td>\n",
       "      <td>respondent's portion</td>\n",
       "      <td>coal</td>\n",
       "      <td>ton</td>\n",
       "      <td>817520.0</td>\n",
       "      <td>24.290000</td>\n",
       "      <td>33.97</td>\n",
       "      <td>34.65</td>\n",
       "      <td>1.400</td>\n",
       "    </tr>\n",
       "    <tr>\n",
       "      <th>9</th>\n",
       "      <td>f1_fuel_1994_12_4_0_1</td>\n",
       "      <td>4</td>\n",
       "      <td>1994</td>\n",
       "      <td>units 1-3</td>\n",
       "      <td>coal</td>\n",
       "      <td>ton</td>\n",
       "      <td>1471233.0</td>\n",
       "      <td>22.484000</td>\n",
       "      <td>28.73</td>\n",
       "      <td>28.11</td>\n",
       "      <td>1.278</td>\n",
       "    </tr>\n",
       "  </tbody>\n",
       "</table>\n",
       "</div>"
      ],
      "text/plain": [
       "                record_id  utility_id_ferc1  report_year  \\\n",
       "0   f1_fuel_1994_12_1_0_7                 1         1994   \n",
       "1  f1_fuel_1994_12_1_0_10                 1         1994   \n",
       "2   f1_fuel_1994_12_2_0_1                 2         1994   \n",
       "3   f1_fuel_1994_12_2_0_7                 2         1994   \n",
       "4  f1_fuel_1994_12_2_0_10                 2         1994   \n",
       "5  f1_fuel_1994_12_2_0_13                 2         1994   \n",
       "6   f1_fuel_1994_12_2_1_1                 2         1994   \n",
       "7  f1_fuel_1994_12_2_1_10                 2         1994   \n",
       "8  f1_fuel_1994_12_2_2_10                 2         1994   \n",
       "9   f1_fuel_1994_12_4_0_1                 4         1994   \n",
       "\n",
       "       plant_name_ferc1 fuel_type_code_pudl fuel_unit  fuel_qty_burned  \\\n",
       "0              rockport                coal       ton        5377489.0   \n",
       "1  rockport total plant                coal       ton       10486945.0   \n",
       "2                gorgas                coal       ton        2978683.0   \n",
       "3                 barry                coal       ton        3739484.0   \n",
       "4             chickasaw                 gas       mcf          40533.0   \n",
       "5   e. c. gaston-unit 5                coal       ton        2124933.0   \n",
       "6      joseph m. farley             nuclear       kgU           2260.0   \n",
       "7   resondent's portion                coal       ton        5372133.0   \n",
       "8  respondent's portion                coal       ton         817520.0   \n",
       "9             units 1-3                coal       ton        1471233.0   \n",
       "\n",
       "   fuel_mmbtu_per_unit  fuel_cost_per_unit_burned  \\\n",
       "0            16.590000                      18.59   \n",
       "1            16.592000                      18.58   \n",
       "2            24.130000                      39.72   \n",
       "3            23.950000                      47.21   \n",
       "4             1.000000                       2.77   \n",
       "5            23.922000                      44.24   \n",
       "6             0.064094                      28.77   \n",
       "7            24.840000                      58.54   \n",
       "8            24.290000                      33.97   \n",
       "9            22.484000                      28.73   \n",
       "\n",
       "   fuel_cost_per_unit_delivered  fuel_cost_per_mmbtu  \n",
       "0                         18.53                1.121  \n",
       "1                         18.53                1.120  \n",
       "2                         38.12                1.650  \n",
       "3                         45.99                1.970  \n",
       "4                          2.77                2.570  \n",
       "5                         43.25                1.850  \n",
       "6                          0.00                0.450  \n",
       "7                         55.13                2.360  \n",
       "8                         34.65                1.400  \n",
       "9                         28.11                1.278  "
      ]
     },
     "execution_count": 9,
     "metadata": {},
     "output_type": "execute_result"
    }
   ],
   "source": [
    "fuel_data.head(10) #checks the first ten rows of the dataframe"
   ]
  },
  {
   "cell_type": "code",
   "execution_count": 10,
   "metadata": {},
   "outputs": [
    {
     "data": {
      "text/plain": [
       "2315"
      ]
     },
     "execution_count": 10,
     "metadata": {},
     "output_type": "execute_result"
    }
   ],
   "source": [
    "fuel_data['plant_name_ferc1'].nunique()"
   ]
  },
  {
   "cell_type": "code",
   "execution_count": 11,
   "metadata": {},
   "outputs": [
    {
     "data": {
      "text/plain": [
       "array([1994, 1995, 1996, 1997, 1998, 1999, 2000, 2001, 2002, 2003, 2004,\n",
       "       2005, 2006, 2007, 2008, 2009, 2010, 2011, 2012, 2013, 2014, 2015,\n",
       "       2016, 2017, 2018], dtype=int64)"
      ]
     },
     "execution_count": 11,
     "metadata": {},
     "output_type": "execute_result"
    }
   ],
   "source": [
    "fuel_data['report_year'].unique()"
   ]
  },
  {
   "cell_type": "code",
   "execution_count": 12,
   "metadata": {},
   "outputs": [
    {
     "data": {
      "text/plain": [
       "651.3694501337732"
      ]
     },
     "execution_count": 12,
     "metadata": {},
     "output_type": "execute_result"
    }
   ],
   "source": [
    "fuel_data['fuel_qty_burned'].kurtosis()"
   ]
  },
  {
   "cell_type": "code",
   "execution_count": 13,
   "metadata": {},
   "outputs": [],
   "source": [
    "#create a 'total_fuel_cost' column\n",
    "\n",
    "fuel_data['total_fuel_cost'] = fuel_data['fuel_qty_burned'] * fuel_data['fuel_cost_per_unit_burned']"
   ]
  },
  {
   "cell_type": "code",
   "execution_count": 14,
   "metadata": {},
   "outputs": [],
   "source": [
    "#create a total_energy_gen in kWh column\n",
    "# 1 mmbtu = 1000000btu and 1btu = 0.000293071kWh\n",
    "fuel_data['Total_energy_gen(kWh)'] = fuel_data['fuel_mmbtu_per_unit'] * 1000000 * 0.000293071"
   ]
  },
  {
   "cell_type": "code",
   "execution_count": 15,
   "metadata": {},
   "outputs": [
    {
     "data": {
      "text/html": [
       "<div>\n",
       "<style scoped>\n",
       "    .dataframe tbody tr th:only-of-type {\n",
       "        vertical-align: middle;\n",
       "    }\n",
       "\n",
       "    .dataframe tbody tr th {\n",
       "        vertical-align: top;\n",
       "    }\n",
       "\n",
       "    .dataframe thead th {\n",
       "        text-align: right;\n",
       "    }\n",
       "</style>\n",
       "<table border=\"1\" class=\"dataframe\">\n",
       "  <thead>\n",
       "    <tr style=\"text-align: right;\">\n",
       "      <th></th>\n",
       "      <th>record_id</th>\n",
       "      <th>utility_id_ferc1</th>\n",
       "      <th>report_year</th>\n",
       "      <th>plant_name_ferc1</th>\n",
       "      <th>fuel_type_code_pudl</th>\n",
       "      <th>fuel_unit</th>\n",
       "      <th>fuel_qty_burned</th>\n",
       "      <th>fuel_mmbtu_per_unit</th>\n",
       "      <th>fuel_cost_per_unit_burned</th>\n",
       "      <th>fuel_cost_per_unit_delivered</th>\n",
       "      <th>fuel_cost_per_mmbtu</th>\n",
       "      <th>total_fuel_cost</th>\n",
       "      <th>Total_energy_gen(kWh)</th>\n",
       "    </tr>\n",
       "  </thead>\n",
       "  <tbody>\n",
       "    <tr>\n",
       "      <th>0</th>\n",
       "      <td>f1_fuel_1994_12_1_0_7</td>\n",
       "      <td>1</td>\n",
       "      <td>1994</td>\n",
       "      <td>rockport</td>\n",
       "      <td>coal</td>\n",
       "      <td>ton</td>\n",
       "      <td>5377489.0</td>\n",
       "      <td>16.590</td>\n",
       "      <td>18.59</td>\n",
       "      <td>18.53</td>\n",
       "      <td>1.121</td>\n",
       "      <td>9.996752e+07</td>\n",
       "      <td>4862.047890</td>\n",
       "    </tr>\n",
       "    <tr>\n",
       "      <th>1</th>\n",
       "      <td>f1_fuel_1994_12_1_0_10</td>\n",
       "      <td>1</td>\n",
       "      <td>1994</td>\n",
       "      <td>rockport total plant</td>\n",
       "      <td>coal</td>\n",
       "      <td>ton</td>\n",
       "      <td>10486945.0</td>\n",
       "      <td>16.592</td>\n",
       "      <td>18.58</td>\n",
       "      <td>18.53</td>\n",
       "      <td>1.120</td>\n",
       "      <td>1.948474e+08</td>\n",
       "      <td>4862.634032</td>\n",
       "    </tr>\n",
       "    <tr>\n",
       "      <th>2</th>\n",
       "      <td>f1_fuel_1994_12_2_0_1</td>\n",
       "      <td>2</td>\n",
       "      <td>1994</td>\n",
       "      <td>gorgas</td>\n",
       "      <td>coal</td>\n",
       "      <td>ton</td>\n",
       "      <td>2978683.0</td>\n",
       "      <td>24.130</td>\n",
       "      <td>39.72</td>\n",
       "      <td>38.12</td>\n",
       "      <td>1.650</td>\n",
       "      <td>1.183133e+08</td>\n",
       "      <td>7071.803230</td>\n",
       "    </tr>\n",
       "    <tr>\n",
       "      <th>3</th>\n",
       "      <td>f1_fuel_1994_12_2_0_7</td>\n",
       "      <td>2</td>\n",
       "      <td>1994</td>\n",
       "      <td>barry</td>\n",
       "      <td>coal</td>\n",
       "      <td>ton</td>\n",
       "      <td>3739484.0</td>\n",
       "      <td>23.950</td>\n",
       "      <td>47.21</td>\n",
       "      <td>45.99</td>\n",
       "      <td>1.970</td>\n",
       "      <td>1.765410e+08</td>\n",
       "      <td>7019.050450</td>\n",
       "    </tr>\n",
       "    <tr>\n",
       "      <th>4</th>\n",
       "      <td>f1_fuel_1994_12_2_0_10</td>\n",
       "      <td>2</td>\n",
       "      <td>1994</td>\n",
       "      <td>chickasaw</td>\n",
       "      <td>gas</td>\n",
       "      <td>mcf</td>\n",
       "      <td>40533.0</td>\n",
       "      <td>1.000</td>\n",
       "      <td>2.77</td>\n",
       "      <td>2.77</td>\n",
       "      <td>2.570</td>\n",
       "      <td>1.122764e+05</td>\n",
       "      <td>293.071000</td>\n",
       "    </tr>\n",
       "  </tbody>\n",
       "</table>\n",
       "</div>"
      ],
      "text/plain": [
       "                record_id  utility_id_ferc1  report_year  \\\n",
       "0   f1_fuel_1994_12_1_0_7                 1         1994   \n",
       "1  f1_fuel_1994_12_1_0_10                 1         1994   \n",
       "2   f1_fuel_1994_12_2_0_1                 2         1994   \n",
       "3   f1_fuel_1994_12_2_0_7                 2         1994   \n",
       "4  f1_fuel_1994_12_2_0_10                 2         1994   \n",
       "\n",
       "       plant_name_ferc1 fuel_type_code_pudl fuel_unit  fuel_qty_burned  \\\n",
       "0              rockport                coal       ton        5377489.0   \n",
       "1  rockport total plant                coal       ton       10486945.0   \n",
       "2                gorgas                coal       ton        2978683.0   \n",
       "3                 barry                coal       ton        3739484.0   \n",
       "4             chickasaw                 gas       mcf          40533.0   \n",
       "\n",
       "   fuel_mmbtu_per_unit  fuel_cost_per_unit_burned  \\\n",
       "0               16.590                      18.59   \n",
       "1               16.592                      18.58   \n",
       "2               24.130                      39.72   \n",
       "3               23.950                      47.21   \n",
       "4                1.000                       2.77   \n",
       "\n",
       "   fuel_cost_per_unit_delivered  fuel_cost_per_mmbtu  total_fuel_cost  \\\n",
       "0                         18.53                1.121     9.996752e+07   \n",
       "1                         18.53                1.120     1.948474e+08   \n",
       "2                         38.12                1.650     1.183133e+08   \n",
       "3                         45.99                1.970     1.765410e+08   \n",
       "4                          2.77                2.570     1.122764e+05   \n",
       "\n",
       "   Total_energy_gen(kWh)  \n",
       "0            4862.047890  \n",
       "1            4862.634032  \n",
       "2            7071.803230  \n",
       "3            7019.050450  \n",
       "4             293.071000  "
      ]
     },
     "execution_count": 15,
     "metadata": {},
     "output_type": "execute_result"
    }
   ],
   "source": [
    "fuel_data.head()"
   ]
  },
  {
   "cell_type": "code",
   "execution_count": 16,
   "metadata": {},
   "outputs": [
    {
     "data": {
      "text/html": [
       "<div>\n",
       "<style scoped>\n",
       "    .dataframe tbody tr th:only-of-type {\n",
       "        vertical-align: middle;\n",
       "    }\n",
       "\n",
       "    .dataframe tbody tr th {\n",
       "        vertical-align: top;\n",
       "    }\n",
       "\n",
       "    .dataframe thead th {\n",
       "        text-align: right;\n",
       "    }\n",
       "</style>\n",
       "<table border=\"1\" class=\"dataframe\">\n",
       "  <thead>\n",
       "    <tr style=\"text-align: right;\">\n",
       "      <th></th>\n",
       "      <th>record_id</th>\n",
       "      <th>utility_id_ferc1</th>\n",
       "      <th>report_year</th>\n",
       "      <th>plant_name_ferc1</th>\n",
       "      <th>fuel_type_code_pudl</th>\n",
       "      <th>fuel_unit</th>\n",
       "      <th>fuel_qty_burned</th>\n",
       "      <th>fuel_mmbtu_per_unit</th>\n",
       "      <th>fuel_cost_per_unit_burned</th>\n",
       "      <th>fuel_cost_per_unit_delivered</th>\n",
       "      <th>fuel_cost_per_mmbtu</th>\n",
       "      <th>total_fuel_cost</th>\n",
       "      <th>Total_energy_gen(kWh)</th>\n",
       "    </tr>\n",
       "  </thead>\n",
       "  <tbody>\n",
       "    <tr>\n",
       "      <th>4782</th>\n",
       "      <td>f1_fuel_1998_12_63_0_2</td>\n",
       "      <td>63</td>\n",
       "      <td>1998</td>\n",
       "      <td>river bend</td>\n",
       "      <td>nuclear</td>\n",
       "      <td>mwhth</td>\n",
       "      <td>24066875.0</td>\n",
       "      <td>341.26</td>\n",
       "      <td>1.835</td>\n",
       "      <td>0.0</td>\n",
       "      <td>0.538</td>\n",
       "      <td>4.416272e+07</td>\n",
       "      <td>100013.40946</td>\n",
       "    </tr>\n",
       "  </tbody>\n",
       "</table>\n",
       "</div>"
      ],
      "text/plain": [
       "                   record_id  utility_id_ferc1  report_year plant_name_ferc1  \\\n",
       "4782  f1_fuel_1998_12_63_0_2                63         1998       river bend   \n",
       "\n",
       "     fuel_type_code_pudl fuel_unit  fuel_qty_burned  fuel_mmbtu_per_unit  \\\n",
       "4782             nuclear     mwhth       24066875.0               341.26   \n",
       "\n",
       "      fuel_cost_per_unit_burned  fuel_cost_per_unit_delivered  \\\n",
       "4782                      1.835                           0.0   \n",
       "\n",
       "      fuel_cost_per_mmbtu  total_fuel_cost  Total_energy_gen(kWh)  \n",
       "4782                0.538     4.416272e+07           100013.40946  "
      ]
     },
     "execution_count": 16,
     "metadata": {},
     "output_type": "execute_result"
    }
   ],
   "source": [
    "#plant that generation highest amount of energy, year, fuel type and total fuel cost\n",
    "fuel_data[fuel_data['Total_energy_gen(kWh)']==fuel_data['Total_energy_gen(kWh)'].max()]"
   ]
  },
  {
   "cell_type": "code",
   "execution_count": 17,
   "metadata": {},
   "outputs": [
    {
     "data": {
      "text/html": [
       "<div>\n",
       "<style scoped>\n",
       "    .dataframe tbody tr th:only-of-type {\n",
       "        vertical-align: middle;\n",
       "    }\n",
       "\n",
       "    .dataframe tbody tr th {\n",
       "        vertical-align: top;\n",
       "    }\n",
       "\n",
       "    .dataframe thead th {\n",
       "        text-align: right;\n",
       "    }\n",
       "</style>\n",
       "<table border=\"1\" class=\"dataframe\">\n",
       "  <thead>\n",
       "    <tr style=\"text-align: right;\">\n",
       "      <th></th>\n",
       "      <th>record_id</th>\n",
       "      <th>utility_id_ferc1</th>\n",
       "      <th>report_year</th>\n",
       "      <th>plant_name_ferc1</th>\n",
       "      <th>fuel_type_code_pudl</th>\n",
       "      <th>fuel_unit</th>\n",
       "      <th>fuel_qty_burned</th>\n",
       "      <th>fuel_mmbtu_per_unit</th>\n",
       "      <th>fuel_cost_per_unit_burned</th>\n",
       "      <th>fuel_cost_per_unit_delivered</th>\n",
       "      <th>fuel_cost_per_mmbtu</th>\n",
       "      <th>total_fuel_cost</th>\n",
       "      <th>Total_energy_gen(kWh)</th>\n",
       "    </tr>\n",
       "  </thead>\n",
       "  <tbody>\n",
       "    <tr>\n",
       "      <th>7596</th>\n",
       "      <td>f1_fuel_2000_12_155_0_1</td>\n",
       "      <td>155</td>\n",
       "      <td>2000</td>\n",
       "      <td>san onofre</td>\n",
       "      <td>nuclear</td>\n",
       "      <td>mmbtu</td>\n",
       "      <td>38037072.0</td>\n",
       "      <td>0.000001</td>\n",
       "      <td>0.000</td>\n",
       "      <td>0.000</td>\n",
       "      <td>0.000</td>\n",
       "      <td>0.000000e+00</td>\n",
       "      <td>0.000293</td>\n",
       "    </tr>\n",
       "    <tr>\n",
       "      <th>8624</th>\n",
       "      <td>f1_fuel_2001_12_79_2_4</td>\n",
       "      <td>79</td>\n",
       "      <td>2001</td>\n",
       "      <td>wolf creek</td>\n",
       "      <td>nuclear</td>\n",
       "      <td>mmbtu</td>\n",
       "      <td>49822872.0</td>\n",
       "      <td>0.000001</td>\n",
       "      <td>0.446</td>\n",
       "      <td>0.446</td>\n",
       "      <td>0.446</td>\n",
       "      <td>2.222100e+07</td>\n",
       "      <td>0.000293</td>\n",
       "    </tr>\n",
       "    <tr>\n",
       "      <th>9002</th>\n",
       "      <td>f1_fuel_2001_12_155_0_1</td>\n",
       "      <td>155</td>\n",
       "      <td>2001</td>\n",
       "      <td>san onofre (1)</td>\n",
       "      <td>nuclear</td>\n",
       "      <td>mmbtu</td>\n",
       "      <td>31388847.0</td>\n",
       "      <td>0.000001</td>\n",
       "      <td>0.000</td>\n",
       "      <td>0.000</td>\n",
       "      <td>0.000</td>\n",
       "      <td>0.000000e+00</td>\n",
       "      <td>0.000293</td>\n",
       "    </tr>\n",
       "    <tr>\n",
       "      <th>10084</th>\n",
       "      <td>f1_fuel_2002_12_79_2_1</td>\n",
       "      <td>79</td>\n",
       "      <td>2002</td>\n",
       "      <td>wolf creek</td>\n",
       "      <td>nuclear</td>\n",
       "      <td>mmbtu</td>\n",
       "      <td>43760363.0</td>\n",
       "      <td>0.000001</td>\n",
       "      <td>0.404</td>\n",
       "      <td>0.404</td>\n",
       "      <td>0.404</td>\n",
       "      <td>1.767919e+07</td>\n",
       "      <td>0.000293</td>\n",
       "    </tr>\n",
       "    <tr>\n",
       "      <th>11082</th>\n",
       "      <td>f1_fuel_2003_12_79_2_1</td>\n",
       "      <td>79</td>\n",
       "      <td>2003</td>\n",
       "      <td>wolf creek</td>\n",
       "      <td>nuclear</td>\n",
       "      <td>mmbtu</td>\n",
       "      <td>43108955.0</td>\n",
       "      <td>0.000001</td>\n",
       "      <td>0.391</td>\n",
       "      <td>0.391</td>\n",
       "      <td>0.391</td>\n",
       "      <td>1.685560e+07</td>\n",
       "      <td>0.000293</td>\n",
       "    </tr>\n",
       "    <tr>\n",
       "      <th>12286</th>\n",
       "      <td>f1_fuel_2004_12_79_2_1</td>\n",
       "      <td>79</td>\n",
       "      <td>2004</td>\n",
       "      <td>wolf creek</td>\n",
       "      <td>nuclear</td>\n",
       "      <td>mmbtu</td>\n",
       "      <td>49059640.0</td>\n",
       "      <td>0.000001</td>\n",
       "      <td>0.391</td>\n",
       "      <td>0.391</td>\n",
       "      <td>0.391</td>\n",
       "      <td>1.918232e+07</td>\n",
       "      <td>0.000293</td>\n",
       "    </tr>\n",
       "    <tr>\n",
       "      <th>13511</th>\n",
       "      <td>f1_fuel_2005_12_79_1_13</td>\n",
       "      <td>79</td>\n",
       "      <td>2005</td>\n",
       "      <td>wolf creek</td>\n",
       "      <td>nuclear</td>\n",
       "      <td>mmbtu</td>\n",
       "      <td>42815011.0</td>\n",
       "      <td>0.000001</td>\n",
       "      <td>0.419</td>\n",
       "      <td>0.419</td>\n",
       "      <td>0.419</td>\n",
       "      <td>1.793949e+07</td>\n",
       "      <td>0.000293</td>\n",
       "    </tr>\n",
       "    <tr>\n",
       "      <th>15085</th>\n",
       "      <td>f1_fuel_2006_12_79_1_13</td>\n",
       "      <td>79</td>\n",
       "      <td>2006</td>\n",
       "      <td>wolf creek</td>\n",
       "      <td>nuclear</td>\n",
       "      <td>mmbtu</td>\n",
       "      <td>45246026.0</td>\n",
       "      <td>0.000001</td>\n",
       "      <td>0.416</td>\n",
       "      <td>0.416</td>\n",
       "      <td>0.416</td>\n",
       "      <td>1.882235e+07</td>\n",
       "      <td>0.000293</td>\n",
       "    </tr>\n",
       "    <tr>\n",
       "      <th>15732</th>\n",
       "      <td>f1_fuel_2007_12_79_1_13</td>\n",
       "      <td>79</td>\n",
       "      <td>2007</td>\n",
       "      <td>wolf creek</td>\n",
       "      <td>nuclear</td>\n",
       "      <td>mmbtu</td>\n",
       "      <td>50038564.0</td>\n",
       "      <td>0.000001</td>\n",
       "      <td>0.441</td>\n",
       "      <td>0.441</td>\n",
       "      <td>0.441</td>\n",
       "      <td>2.206701e+07</td>\n",
       "      <td>0.000293</td>\n",
       "    </tr>\n",
       "    <tr>\n",
       "      <th>17923</th>\n",
       "      <td>f1_fuel_2008_12_79_1_13</td>\n",
       "      <td>79</td>\n",
       "      <td>2008</td>\n",
       "      <td>wolf creek</td>\n",
       "      <td>nuclear</td>\n",
       "      <td>mmbtu</td>\n",
       "      <td>41273785.0</td>\n",
       "      <td>0.000001</td>\n",
       "      <td>0.436</td>\n",
       "      <td>0.436</td>\n",
       "      <td>0.436</td>\n",
       "      <td>1.799537e+07</td>\n",
       "      <td>0.000293</td>\n",
       "    </tr>\n",
       "    <tr>\n",
       "      <th>19010</th>\n",
       "      <td>f1_fuel_2009_12_79_1_13</td>\n",
       "      <td>79</td>\n",
       "      <td>2009</td>\n",
       "      <td>wolf creek</td>\n",
       "      <td>nuclear</td>\n",
       "      <td>mmbtu</td>\n",
       "      <td>42612177.0</td>\n",
       "      <td>0.000001</td>\n",
       "      <td>0.465</td>\n",
       "      <td>0.465</td>\n",
       "      <td>0.465</td>\n",
       "      <td>1.981466e+07</td>\n",
       "      <td>0.000293</td>\n",
       "    </tr>\n",
       "    <tr>\n",
       "      <th>19604</th>\n",
       "      <td>f1_fuel_2010_12_79_2_4</td>\n",
       "      <td>79</td>\n",
       "      <td>2010</td>\n",
       "      <td>wolf creek (47%)</td>\n",
       "      <td>nuclear</td>\n",
       "      <td>mmbtu</td>\n",
       "      <td>46377652.0</td>\n",
       "      <td>0.000001</td>\n",
       "      <td>0.626</td>\n",
       "      <td>0.626</td>\n",
       "      <td>62.621</td>\n",
       "      <td>2.903241e+07</td>\n",
       "      <td>0.000293</td>\n",
       "    </tr>\n",
       "    <tr>\n",
       "      <th>21588</th>\n",
       "      <td>f1_fuel_2011_12_79_2_4</td>\n",
       "      <td>79</td>\n",
       "      <td>2011</td>\n",
       "      <td>wolf creek (47%)</td>\n",
       "      <td>nuclear</td>\n",
       "      <td>mmbtu</td>\n",
       "      <td>35491043.0</td>\n",
       "      <td>0.000001</td>\n",
       "      <td>0.688</td>\n",
       "      <td>0.688</td>\n",
       "      <td>68.836</td>\n",
       "      <td>2.441784e+07</td>\n",
       "      <td>0.000293</td>\n",
       "    </tr>\n",
       "    <tr>\n",
       "      <th>22707</th>\n",
       "      <td>f1_fuel_2012_12_79_2_4</td>\n",
       "      <td>79</td>\n",
       "      <td>2012</td>\n",
       "      <td>wolf creek (47%)</td>\n",
       "      <td>nuclear</td>\n",
       "      <td>mmbtu</td>\n",
       "      <td>39863395.0</td>\n",
       "      <td>0.000001</td>\n",
       "      <td>0.710</td>\n",
       "      <td>0.710</td>\n",
       "      <td>0.710</td>\n",
       "      <td>2.830301e+07</td>\n",
       "      <td>0.000293</td>\n",
       "    </tr>\n",
       "    <tr>\n",
       "      <th>23780</th>\n",
       "      <td>f1_fuel_2013_12_79_2_4</td>\n",
       "      <td>79</td>\n",
       "      <td>2013</td>\n",
       "      <td>wolf creek (47%)</td>\n",
       "      <td>nuclear</td>\n",
       "      <td>mmbtu</td>\n",
       "      <td>34530109.0</td>\n",
       "      <td>0.000001</td>\n",
       "      <td>0.747</td>\n",
       "      <td>0.747</td>\n",
       "      <td>0.747</td>\n",
       "      <td>2.579399e+07</td>\n",
       "      <td>0.000293</td>\n",
       "    </tr>\n",
       "    <tr>\n",
       "      <th>25158</th>\n",
       "      <td>f1_fuel_2014_12_79_2_4</td>\n",
       "      <td>79</td>\n",
       "      <td>2014</td>\n",
       "      <td>wolf creek (47%)</td>\n",
       "      <td>nuclear</td>\n",
       "      <td>mmbtu</td>\n",
       "      <td>40628354.0</td>\n",
       "      <td>0.000001</td>\n",
       "      <td>0.662</td>\n",
       "      <td>0.662</td>\n",
       "      <td>0.662</td>\n",
       "      <td>2.689597e+07</td>\n",
       "      <td>0.000293</td>\n",
       "    </tr>\n",
       "    <tr>\n",
       "      <th>26205</th>\n",
       "      <td>f1_fuel_2015_12_79_2_4</td>\n",
       "      <td>79</td>\n",
       "      <td>2015</td>\n",
       "      <td>wolf creek (47%)</td>\n",
       "      <td>nuclear</td>\n",
       "      <td>mmbtu</td>\n",
       "      <td>40894694.0</td>\n",
       "      <td>0.000001</td>\n",
       "      <td>0.656</td>\n",
       "      <td>0.656</td>\n",
       "      <td>0.656</td>\n",
       "      <td>2.682692e+07</td>\n",
       "      <td>0.000293</td>\n",
       "    </tr>\n",
       "    <tr>\n",
       "      <th>27360</th>\n",
       "      <td>f1_fuel_2016_12_79_2_4</td>\n",
       "      <td>79</td>\n",
       "      <td>2016</td>\n",
       "      <td>wolf creek (47%)</td>\n",
       "      <td>nuclear</td>\n",
       "      <td>mmbtu</td>\n",
       "      <td>39054588.0</td>\n",
       "      <td>0.000001</td>\n",
       "      <td>0.680</td>\n",
       "      <td>0.680</td>\n",
       "      <td>0.680</td>\n",
       "      <td>2.655712e+07</td>\n",
       "      <td>0.000293</td>\n",
       "    </tr>\n",
       "    <tr>\n",
       "      <th>28296</th>\n",
       "      <td>f1_fuel_2017_12_79_2_4</td>\n",
       "      <td>79</td>\n",
       "      <td>2017</td>\n",
       "      <td>wolf creek (47%)</td>\n",
       "      <td>nuclear</td>\n",
       "      <td>mmbtu</td>\n",
       "      <td>49976511.0</td>\n",
       "      <td>0.000001</td>\n",
       "      <td>0.691</td>\n",
       "      <td>0.691</td>\n",
       "      <td>0.691</td>\n",
       "      <td>3.453377e+07</td>\n",
       "      <td>0.000293</td>\n",
       "    </tr>\n",
       "    <tr>\n",
       "      <th>29318</th>\n",
       "      <td>f1_fuel_2018_12_79_2_4</td>\n",
       "      <td>79</td>\n",
       "      <td>2018</td>\n",
       "      <td>wolf creek (47%)</td>\n",
       "      <td>nuclear</td>\n",
       "      <td>mmbtu</td>\n",
       "      <td>43215352.0</td>\n",
       "      <td>0.000001</td>\n",
       "      <td>0.606</td>\n",
       "      <td>0.606</td>\n",
       "      <td>0.606</td>\n",
       "      <td>2.618850e+07</td>\n",
       "      <td>0.000293</td>\n",
       "    </tr>\n",
       "  </tbody>\n",
       "</table>\n",
       "</div>"
      ],
      "text/plain": [
       "                     record_id  utility_id_ferc1  report_year  \\\n",
       "7596   f1_fuel_2000_12_155_0_1               155         2000   \n",
       "8624    f1_fuel_2001_12_79_2_4                79         2001   \n",
       "9002   f1_fuel_2001_12_155_0_1               155         2001   \n",
       "10084   f1_fuel_2002_12_79_2_1                79         2002   \n",
       "11082   f1_fuel_2003_12_79_2_1                79         2003   \n",
       "12286   f1_fuel_2004_12_79_2_1                79         2004   \n",
       "13511  f1_fuel_2005_12_79_1_13                79         2005   \n",
       "15085  f1_fuel_2006_12_79_1_13                79         2006   \n",
       "15732  f1_fuel_2007_12_79_1_13                79         2007   \n",
       "17923  f1_fuel_2008_12_79_1_13                79         2008   \n",
       "19010  f1_fuel_2009_12_79_1_13                79         2009   \n",
       "19604   f1_fuel_2010_12_79_2_4                79         2010   \n",
       "21588   f1_fuel_2011_12_79_2_4                79         2011   \n",
       "22707   f1_fuel_2012_12_79_2_4                79         2012   \n",
       "23780   f1_fuel_2013_12_79_2_4                79         2013   \n",
       "25158   f1_fuel_2014_12_79_2_4                79         2014   \n",
       "26205   f1_fuel_2015_12_79_2_4                79         2015   \n",
       "27360   f1_fuel_2016_12_79_2_4                79         2016   \n",
       "28296   f1_fuel_2017_12_79_2_4                79         2017   \n",
       "29318   f1_fuel_2018_12_79_2_4                79         2018   \n",
       "\n",
       "       plant_name_ferc1 fuel_type_code_pudl fuel_unit  fuel_qty_burned  \\\n",
       "7596         san onofre             nuclear     mmbtu       38037072.0   \n",
       "8624         wolf creek             nuclear     mmbtu       49822872.0   \n",
       "9002     san onofre (1)             nuclear     mmbtu       31388847.0   \n",
       "10084        wolf creek             nuclear     mmbtu       43760363.0   \n",
       "11082        wolf creek             nuclear     mmbtu       43108955.0   \n",
       "12286        wolf creek             nuclear     mmbtu       49059640.0   \n",
       "13511        wolf creek             nuclear     mmbtu       42815011.0   \n",
       "15085        wolf creek             nuclear     mmbtu       45246026.0   \n",
       "15732        wolf creek             nuclear     mmbtu       50038564.0   \n",
       "17923        wolf creek             nuclear     mmbtu       41273785.0   \n",
       "19010        wolf creek             nuclear     mmbtu       42612177.0   \n",
       "19604  wolf creek (47%)             nuclear     mmbtu       46377652.0   \n",
       "21588  wolf creek (47%)             nuclear     mmbtu       35491043.0   \n",
       "22707  wolf creek (47%)             nuclear     mmbtu       39863395.0   \n",
       "23780  wolf creek (47%)             nuclear     mmbtu       34530109.0   \n",
       "25158  wolf creek (47%)             nuclear     mmbtu       40628354.0   \n",
       "26205  wolf creek (47%)             nuclear     mmbtu       40894694.0   \n",
       "27360  wolf creek (47%)             nuclear     mmbtu       39054588.0   \n",
       "28296  wolf creek (47%)             nuclear     mmbtu       49976511.0   \n",
       "29318  wolf creek (47%)             nuclear     mmbtu       43215352.0   \n",
       "\n",
       "       fuel_mmbtu_per_unit  fuel_cost_per_unit_burned  \\\n",
       "7596              0.000001                      0.000   \n",
       "8624              0.000001                      0.446   \n",
       "9002              0.000001                      0.000   \n",
       "10084             0.000001                      0.404   \n",
       "11082             0.000001                      0.391   \n",
       "12286             0.000001                      0.391   \n",
       "13511             0.000001                      0.419   \n",
       "15085             0.000001                      0.416   \n",
       "15732             0.000001                      0.441   \n",
       "17923             0.000001                      0.436   \n",
       "19010             0.000001                      0.465   \n",
       "19604             0.000001                      0.626   \n",
       "21588             0.000001                      0.688   \n",
       "22707             0.000001                      0.710   \n",
       "23780             0.000001                      0.747   \n",
       "25158             0.000001                      0.662   \n",
       "26205             0.000001                      0.656   \n",
       "27360             0.000001                      0.680   \n",
       "28296             0.000001                      0.691   \n",
       "29318             0.000001                      0.606   \n",
       "\n",
       "       fuel_cost_per_unit_delivered  fuel_cost_per_mmbtu  total_fuel_cost  \\\n",
       "7596                          0.000                0.000     0.000000e+00   \n",
       "8624                          0.446                0.446     2.222100e+07   \n",
       "9002                          0.000                0.000     0.000000e+00   \n",
       "10084                         0.404                0.404     1.767919e+07   \n",
       "11082                         0.391                0.391     1.685560e+07   \n",
       "12286                         0.391                0.391     1.918232e+07   \n",
       "13511                         0.419                0.419     1.793949e+07   \n",
       "15085                         0.416                0.416     1.882235e+07   \n",
       "15732                         0.441                0.441     2.206701e+07   \n",
       "17923                         0.436                0.436     1.799537e+07   \n",
       "19010                         0.465                0.465     1.981466e+07   \n",
       "19604                         0.626               62.621     2.903241e+07   \n",
       "21588                         0.688               68.836     2.441784e+07   \n",
       "22707                         0.710                0.710     2.830301e+07   \n",
       "23780                         0.747                0.747     2.579399e+07   \n",
       "25158                         0.662                0.662     2.689597e+07   \n",
       "26205                         0.656                0.656     2.682692e+07   \n",
       "27360                         0.680                0.680     2.655712e+07   \n",
       "28296                         0.691                0.691     3.453377e+07   \n",
       "29318                         0.606                0.606     2.618850e+07   \n",
       "\n",
       "       Total_energy_gen(kWh)  \n",
       "7596                0.000293  \n",
       "8624                0.000293  \n",
       "9002                0.000293  \n",
       "10084               0.000293  \n",
       "11082               0.000293  \n",
       "12286               0.000293  \n",
       "13511               0.000293  \n",
       "15085               0.000293  \n",
       "15732               0.000293  \n",
       "17923               0.000293  \n",
       "19010               0.000293  \n",
       "19604               0.000293  \n",
       "21588               0.000293  \n",
       "22707               0.000293  \n",
       "23780               0.000293  \n",
       "25158               0.000293  \n",
       "26205               0.000293  \n",
       "27360               0.000293  \n",
       "28296               0.000293  \n",
       "29318               0.000293  "
      ]
     },
     "execution_count": 17,
     "metadata": {},
     "output_type": "execute_result"
    }
   ],
   "source": [
    "#plant that generation lowest amount of energy, year, fuel type and total fuel cost\n",
    "fuel_data[fuel_data['Total_energy_gen(kWh)']==fuel_data['Total_energy_gen(kWh)'].min()]"
   ]
  },
  {
   "cell_type": "code",
   "execution_count": 18,
   "metadata": {},
   "outputs": [
    {
     "data": {
      "text/html": [
       "<div>\n",
       "<style scoped>\n",
       "    .dataframe tbody tr th:only-of-type {\n",
       "        vertical-align: middle;\n",
       "    }\n",
       "\n",
       "    .dataframe tbody tr th {\n",
       "        vertical-align: top;\n",
       "    }\n",
       "\n",
       "    .dataframe thead th {\n",
       "        text-align: right;\n",
       "    }\n",
       "</style>\n",
       "<table border=\"1\" class=\"dataframe\">\n",
       "  <thead>\n",
       "    <tr style=\"text-align: right;\">\n",
       "      <th></th>\n",
       "      <th>record_id</th>\n",
       "      <th>utility_id_ferc1</th>\n",
       "      <th>report_year</th>\n",
       "      <th>plant_name_ferc1</th>\n",
       "      <th>fuel_type_code_pudl</th>\n",
       "      <th>fuel_unit</th>\n",
       "      <th>fuel_qty_burned</th>\n",
       "      <th>fuel_mmbtu_per_unit</th>\n",
       "      <th>fuel_cost_per_unit_burned</th>\n",
       "      <th>fuel_cost_per_unit_delivered</th>\n",
       "      <th>fuel_cost_per_mmbtu</th>\n",
       "      <th>total_fuel_cost</th>\n",
       "      <th>Total_energy_gen(kWh)</th>\n",
       "    </tr>\n",
       "  </thead>\n",
       "  <tbody>\n",
       "    <tr>\n",
       "      <th>3975</th>\n",
       "      <td>f1_fuel_1997_12_128_0_1</td>\n",
       "      <td>128</td>\n",
       "      <td>1997</td>\n",
       "      <td>kyger creek</td>\n",
       "      <td>coal</td>\n",
       "      <td>ton</td>\n",
       "      <td>2914719.0</td>\n",
       "      <td>26.134</td>\n",
       "      <td>31839.0</td>\n",
       "      <td>32.72</td>\n",
       "      <td>1.294</td>\n",
       "      <td>9.280174e+10</td>\n",
       "      <td>7659.117514</td>\n",
       "    </tr>\n",
       "  </tbody>\n",
       "</table>\n",
       "</div>"
      ],
      "text/plain": [
       "                    record_id  utility_id_ferc1  report_year plant_name_ferc1  \\\n",
       "3975  f1_fuel_1997_12_128_0_1               128         1997      kyger creek   \n",
       "\n",
       "     fuel_type_code_pudl fuel_unit  fuel_qty_burned  fuel_mmbtu_per_unit  \\\n",
       "3975                coal       ton        2914719.0               26.134   \n",
       "\n",
       "      fuel_cost_per_unit_burned  fuel_cost_per_unit_delivered  \\\n",
       "3975                    31839.0                         32.72   \n",
       "\n",
       "      fuel_cost_per_mmbtu  total_fuel_cost  Total_energy_gen(kWh)  \n",
       "3975                1.294     9.280174e+10            7659.117514  "
      ]
     },
     "execution_count": 18,
     "metadata": {},
     "output_type": "execute_result"
    }
   ],
   "source": [
    "#plant with highest operating cost(cost of fuel), year, fuel type, energy generated and total fuel cost\n",
    "fuel_data[fuel_data['total_fuel_cost']==fuel_data['total_fuel_cost'].max()]"
   ]
  },
  {
   "cell_type": "code",
   "execution_count": 19,
   "metadata": {},
   "outputs": [
    {
     "data": {
      "text/html": [
       "<div>\n",
       "<style scoped>\n",
       "    .dataframe tbody tr th:only-of-type {\n",
       "        vertical-align: middle;\n",
       "    }\n",
       "\n",
       "    .dataframe tbody tr th {\n",
       "        vertical-align: top;\n",
       "    }\n",
       "\n",
       "    .dataframe thead th {\n",
       "        text-align: right;\n",
       "    }\n",
       "</style>\n",
       "<table border=\"1\" class=\"dataframe\">\n",
       "  <thead>\n",
       "    <tr style=\"text-align: right;\">\n",
       "      <th></th>\n",
       "      <th>record_id</th>\n",
       "      <th>utility_id_ferc1</th>\n",
       "      <th>report_year</th>\n",
       "      <th>plant_name_ferc1</th>\n",
       "      <th>fuel_type_code_pudl</th>\n",
       "      <th>fuel_unit</th>\n",
       "      <th>fuel_qty_burned</th>\n",
       "      <th>fuel_mmbtu_per_unit</th>\n",
       "      <th>fuel_cost_per_unit_burned</th>\n",
       "      <th>fuel_cost_per_unit_delivered</th>\n",
       "      <th>fuel_cost_per_mmbtu</th>\n",
       "      <th>total_fuel_cost</th>\n",
       "      <th>Total_energy_gen(kWh)</th>\n",
       "    </tr>\n",
       "  </thead>\n",
       "  <tbody>\n",
       "    <tr>\n",
       "      <th>4963</th>\n",
       "      <td>f1_fuel_1998_12_121_0_14</td>\n",
       "      <td>121</td>\n",
       "      <td>1998</td>\n",
       "      <td>french island</td>\n",
       "      <td>waste</td>\n",
       "      <td>ton</td>\n",
       "      <td>48302.0</td>\n",
       "      <td>0.00578</td>\n",
       "      <td>-43.712</td>\n",
       "      <td>-43.747</td>\n",
       "      <td>-3.781</td>\n",
       "      <td>-2111377.024</td>\n",
       "      <td>1.69395</td>\n",
       "    </tr>\n",
       "  </tbody>\n",
       "</table>\n",
       "</div>"
      ],
      "text/plain": [
       "                     record_id  utility_id_ferc1  report_year  \\\n",
       "4963  f1_fuel_1998_12_121_0_14               121         1998   \n",
       "\n",
       "     plant_name_ferc1 fuel_type_code_pudl fuel_unit  fuel_qty_burned  \\\n",
       "4963    french island               waste       ton          48302.0   \n",
       "\n",
       "      fuel_mmbtu_per_unit  fuel_cost_per_unit_burned  \\\n",
       "4963              0.00578                    -43.712   \n",
       "\n",
       "      fuel_cost_per_unit_delivered  fuel_cost_per_mmbtu  total_fuel_cost  \\\n",
       "4963                       -43.747               -3.781     -2111377.024   \n",
       "\n",
       "      Total_energy_gen(kWh)  \n",
       "4963                1.69395  "
      ]
     },
     "execution_count": 19,
     "metadata": {},
     "output_type": "execute_result"
    }
   ],
   "source": [
    "#plant with cheapest operating cost(cost of fuel), year, fuel type, energy generated and total fuel cost\n",
    "fuel_data[fuel_data['total_fuel_cost']==fuel_data['total_fuel_cost'].min()]"
   ]
  },
  {
   "cell_type": "code",
   "execution_count": 20,
   "metadata": {},
   "outputs": [
    {
     "data": {
      "text/plain": [
       "array(['coal', 'gas', 'nuclear', 'oil', 'waste', 'other'], dtype=object)"
      ]
     },
     "execution_count": 20,
     "metadata": {},
     "output_type": "execute_result"
    }
   ],
   "source": [
    "#checks the unique fuel types\n",
    "\n",
    "fuel_data['fuel_type_code_pudl'].unique()"
   ]
  },
  {
   "cell_type": "code",
   "execution_count": 21,
   "metadata": {},
   "outputs": [],
   "source": [
    "#group dataframe by fuel types and calculate the mean of each numeric column\n",
    "\n",
    "mean_vals = fuel_data.groupby(fuel_data['fuel_type_code_pudl'], as_index=False).mean()"
   ]
  },
  {
   "cell_type": "code",
   "execution_count": 22,
   "metadata": {},
   "outputs": [
    {
     "data": {
      "text/html": [
       "<div>\n",
       "<style scoped>\n",
       "    .dataframe tbody tr th:only-of-type {\n",
       "        vertical-align: middle;\n",
       "    }\n",
       "\n",
       "    .dataframe tbody tr th {\n",
       "        vertical-align: top;\n",
       "    }\n",
       "\n",
       "    .dataframe thead th {\n",
       "        text-align: right;\n",
       "    }\n",
       "</style>\n",
       "<table border=\"1\" class=\"dataframe\">\n",
       "  <thead>\n",
       "    <tr style=\"text-align: right;\">\n",
       "      <th></th>\n",
       "      <th>fuel_type_code_pudl</th>\n",
       "      <th>utility_id_ferc1</th>\n",
       "      <th>report_year</th>\n",
       "      <th>fuel_qty_burned</th>\n",
       "      <th>fuel_mmbtu_per_unit</th>\n",
       "      <th>fuel_cost_per_unit_burned</th>\n",
       "      <th>fuel_cost_per_unit_delivered</th>\n",
       "      <th>fuel_cost_per_mmbtu</th>\n",
       "      <th>total_fuel_cost</th>\n",
       "      <th>Total_energy_gen(kWh)</th>\n",
       "    </tr>\n",
       "  </thead>\n",
       "  <tbody>\n",
       "    <tr>\n",
       "      <th>0</th>\n",
       "      <td>coal</td>\n",
       "      <td>115.637534</td>\n",
       "      <td>2004.623143</td>\n",
       "      <td>1.903473e+06</td>\n",
       "      <td>20.762780</td>\n",
       "      <td>67.421830</td>\n",
       "      <td>116.951141</td>\n",
       "      <td>1.787190</td>\n",
       "      <td>1.364379e+08</td>\n",
       "      <td>6084.968784</td>\n",
       "    </tr>\n",
       "    <tr>\n",
       "      <th>1</th>\n",
       "      <td>gas</td>\n",
       "      <td>124.122062</td>\n",
       "      <td>2005.978060</td>\n",
       "      <td>4.843183e+06</td>\n",
       "      <td>1.021913</td>\n",
       "      <td>13.659397</td>\n",
       "      <td>12.095172</td>\n",
       "      <td>5.408876</td>\n",
       "      <td>5.377718e+07</td>\n",
       "      <td>299.492940</td>\n",
       "    </tr>\n",
       "    <tr>\n",
       "      <th>2</th>\n",
       "      <td>nuclear</td>\n",
       "      <td>107.397311</td>\n",
       "      <td>2002.970660</td>\n",
       "      <td>5.454838e+06</td>\n",
       "      <td>17.582120</td>\n",
       "      <td>4955.157002</td>\n",
       "      <td>28616.915039</td>\n",
       "      <td>1.716559</td>\n",
       "      <td>1.030336e+08</td>\n",
       "      <td>5152.809456</td>\n",
       "    </tr>\n",
       "    <tr>\n",
       "      <th>3</th>\n",
       "      <td>oil</td>\n",
       "      <td>113.236235</td>\n",
       "      <td>2007.195933</td>\n",
       "      <td>6.311677e+04</td>\n",
       "      <td>5.814377</td>\n",
       "      <td>168.877086</td>\n",
       "      <td>313.907691</td>\n",
       "      <td>12.698732</td>\n",
       "      <td>5.009150e+06</td>\n",
       "      <td>1704.025268</td>\n",
       "    </tr>\n",
       "    <tr>\n",
       "      <th>4</th>\n",
       "      <td>other</td>\n",
       "      <td>110.467066</td>\n",
       "      <td>2001.700599</td>\n",
       "      <td>2.948137e+06</td>\n",
       "      <td>0.572752</td>\n",
       "      <td>18.253856</td>\n",
       "      <td>16.871485</td>\n",
       "      <td>155.084910</td>\n",
       "      <td>2.059186e+06</td>\n",
       "      <td>167.857110</td>\n",
       "    </tr>\n",
       "    <tr>\n",
       "      <th>5</th>\n",
       "      <td>waste</td>\n",
       "      <td>154.253968</td>\n",
       "      <td>2005.650794</td>\n",
       "      <td>1.171914e+05</td>\n",
       "      <td>0.341163</td>\n",
       "      <td>19.518122</td>\n",
       "      <td>18.413052</td>\n",
       "      <td>822.709937</td>\n",
       "      <td>2.481652e+06</td>\n",
       "      <td>99.984913</td>\n",
       "    </tr>\n",
       "  </tbody>\n",
       "</table>\n",
       "</div>"
      ],
      "text/plain": [
       "  fuel_type_code_pudl  utility_id_ferc1  report_year  fuel_qty_burned  \\\n",
       "0                coal        115.637534  2004.623143     1.903473e+06   \n",
       "1                 gas        124.122062  2005.978060     4.843183e+06   \n",
       "2             nuclear        107.397311  2002.970660     5.454838e+06   \n",
       "3                 oil        113.236235  2007.195933     6.311677e+04   \n",
       "4               other        110.467066  2001.700599     2.948137e+06   \n",
       "5               waste        154.253968  2005.650794     1.171914e+05   \n",
       "\n",
       "   fuel_mmbtu_per_unit  fuel_cost_per_unit_burned  \\\n",
       "0            20.762780                  67.421830   \n",
       "1             1.021913                  13.659397   \n",
       "2            17.582120                4955.157002   \n",
       "3             5.814377                 168.877086   \n",
       "4             0.572752                  18.253856   \n",
       "5             0.341163                  19.518122   \n",
       "\n",
       "   fuel_cost_per_unit_delivered  fuel_cost_per_mmbtu  total_fuel_cost  \\\n",
       "0                    116.951141             1.787190     1.364379e+08   \n",
       "1                     12.095172             5.408876     5.377718e+07   \n",
       "2                  28616.915039             1.716559     1.030336e+08   \n",
       "3                    313.907691            12.698732     5.009150e+06   \n",
       "4                     16.871485           155.084910     2.059186e+06   \n",
       "5                     18.413052           822.709937     2.481652e+06   \n",
       "\n",
       "   Total_energy_gen(kWh)  \n",
       "0            6084.968784  \n",
       "1             299.492940  \n",
       "2            5152.809456  \n",
       "3            1704.025268  \n",
       "4             167.857110  \n",
       "5              99.984913  "
      ]
     },
     "execution_count": 22,
     "metadata": {},
     "output_type": "execute_result"
    }
   ],
   "source": [
    "mean_vals"
   ]
  },
  {
   "cell_type": "code",
   "execution_count": 23,
   "metadata": {},
   "outputs": [
    {
     "data": {
      "text/plain": [
       "Text(0.5, 1.0, 'Fig 1: Mean Total Fuel Costs Based on Fuel Types')"
      ]
     },
     "execution_count": 23,
     "metadata": {},
     "output_type": "execute_result"
    },
    {
     "data": {
      "image/png": "[encoded data removed]",
      "text/plain": [
       "<Figure size 864x504 with 1 Axes>"
      ]
     },
     "metadata": {
      "needs_background": "light"
     },
     "output_type": "display_data"
    }
   ],
   "source": [
    "plt.figure(figsize = (12,7)) # create a blank plot platform of size 12 x 7 (B x L, respectively)\n",
    "\n",
    "#barplot of mean total fuel cost  of plants based on fuel types\n",
    "tfc = sns.barplot(data=mean_vals, x='fuel_type_code_pudl',y='total_fuel_cost')\n",
    "\n",
    "#convert y axis to logarithm due to large values\n",
    "tfc.set_yscale('log')\n",
    "\n",
    "#set range of y axis value (from 1 to 150000000)\n",
    "tfc.set_ylim(1,500000000)\n",
    "plt.xlabel('Fuel Type') # X axis label\n",
    "plt.ylabel('Mean Total Fuel Cost') # Y axis label\n",
    "plt.title('Fig 1: Mean Total Fuel Costs Based on Fuel Types') #set title"
   ]
  },
  {
   "cell_type": "code",
   "execution_count": 24,
   "metadata": {},
   "outputs": [
    {
     "data": {
      "text/plain": [
       "Text(0.5, 1.0, 'Fig 2: Mean Total Energy Generations Based on Fuel Types')"
      ]
     },
     "execution_count": 24,
     "metadata": {},
     "output_type": "execute_result"
    },
    {
     "data": {
      "image/png": "[encoded data removed]",
      "text/plain": [
       "<Figure size 864x504 with 1 Axes>"
      ]
     },
     "metadata": {
      "needs_background": "light"
     },
     "output_type": "display_data"
    }
   ],
   "source": [
    "plt.figure(figsize = (12,7)) # create a blank plot platform of size 12 x 7 (B x L, respectively)\n",
    "\n",
    "#create a barplot of mean total energy generation of plants based on fuel types\n",
    "sns.barplot(data=mean_vals, x='fuel_type_code_pudl',y='Total_energy_gen(kWh)')\n",
    "\n",
    "plt.xlabel('Fuel Type') # X axis label\n",
    "plt.ylabel('Mean Total Energy Generation') # Y axis label\n",
    "plt.title('Fig 2: Mean Total Energy Generations Based on Fuel Types') #set title"
   ]
  },
  {
   "cell_type": "code",
   "execution_count": 25,
   "metadata": {
    "scrolled": false
   },
   "outputs": [
    {
     "data": {
      "text/plain": [
       "Text(0.5, 1.0, 'Fig 3: Mean Total Fuel Quantity Burned based on Fuel Types')"
      ]
     },
     "execution_count": 25,
     "metadata": {},
     "output_type": "execute_result"
    },
    {
     "data": {
      "image/png": "[encoded data removed]",
      "text/plain": [
       "<Figure size 864x504 with 1 Axes>"
      ]
     },
     "metadata": {
      "needs_background": "light"
     },
     "output_type": "display_data"
    }
   ],
   "source": [
    "plt.figure(figsize=(12,7)) # create a blank plot platform of size 12 x 7 (B x L, respectively)\n",
    "\n",
    "#create a barplot of mean total fuel quantity burned by plants based on fuel types\n",
    "fqb = sns.barplot(data = mean_vals, x = 'fuel_type_code_pudl', y = 'fuel_qty_burned')\n",
    "\n",
    "#convert y axis to logarithm due to large values\n",
    "fqb.set_yscale('log')\n",
    "\n",
    "#set range of y axis value (from 1 to 6000000)\n",
    "fqb.set_ylim(1,6000000)\n",
    "plt.xlabel('Fuel Type') # X axis label\n",
    "plt.ylabel('Mean Fuel Quantity Burned') # Y axis label\n",
    "plt.title('Fig 3: Mean Total Fuel Quantity Burned based on Fuel Types') #set title"
   ]
  },
  {
   "cell_type": "code",
   "execution_count": 26,
   "metadata": {},
   "outputs": [
    {
     "data": {
      "text/plain": [
       "Index(['record_id', 'utility_id_ferc1', 'report_year', 'plant_name_ferc1',\n",
       "       'fuel_type_code_pudl', 'fuel_unit', 'fuel_qty_burned',\n",
       "       'fuel_mmbtu_per_unit', 'fuel_cost_per_unit_burned',\n",
       "       'fuel_cost_per_unit_delivered', 'fuel_cost_per_mmbtu',\n",
       "       'total_fuel_cost', 'Total_energy_gen(kWh)'],\n",
       "      dtype='object')"
      ]
     },
     "execution_count": 26,
     "metadata": {},
     "output_type": "execute_result"
    }
   ],
   "source": [
    "fuel_data.columns"
   ]
  },
  {
   "cell_type": "code",
   "execution_count": 27,
   "metadata": {},
   "outputs": [
    {
     "data": {
      "text/plain": [
       "Text(0.5, 1.0, 'Fig 4: Mean MMBTU Per Unit of Fuel Based on Fuel Types')"
      ]
     },
     "execution_count": 27,
     "metadata": {},
     "output_type": "execute_result"
    },
    {
     "data": {
      "image/png": "[encoded data removed]",
      "text/plain": [
       "<Figure size 864x504 with 1 Axes>"
      ]
     },
     "metadata": {
      "needs_background": "light"
     },
     "output_type": "display_data"
    }
   ],
   "source": [
    "plt.figure(figsize = (12,7)) # create a blank plot platform of size 12 x 7 (B x L, respectively)\n",
    "\n",
    "#create a barplot of mean mmbtu per unit of fuel based on fuel types\n",
    "sns.barplot(data=mean_vals, x='fuel_type_code_pudl',y='fuel_mmbtu_per_unit')\n",
    "plt.xlabel('Fuel Type') # X axis label\n",
    "plt.ylabel('Mean MMBTU Per Unit of Fuel') # Y axis label\n",
    "plt.title('Fig 4: Mean MMBTU Per Unit of Fuel Based on Fuel Types') #set title"
   ]
  },
  {
   "cell_type": "code",
   "execution_count": 28,
   "metadata": {
    "scrolled": false
   },
   "outputs": [
    {
     "data": {
      "text/plain": [
       "Text(0.5, 1.0, 'Fig 5: Mean Fuel Cost Per Unit Burned Based on Fuel Types')"
      ]
     },
     "execution_count": 28,
     "metadata": {},
     "output_type": "execute_result"
    },
    {
     "data": {
      "image/png": "[encoded data removed]",
      "text/plain": [
       "<Figure size 864x360 with 1 Axes>"
      ]
     },
     "metadata": {
      "needs_background": "light"
     },
     "output_type": "display_data"
    }
   ],
   "source": [
    "plt.figure(figsize = (12,5)) # create a blank plot platform of size 12 x 7 (B x L, respectively)\n",
    "\n",
    "#create a barplot of mean fuel cost per unit burned based on fuel types\n",
    "sns.barplot(data=mean_vals, x='fuel_type_code_pudl',y='fuel_cost_per_unit_burned')\n",
    "plt.xlabel('Fuel Type') # X axis label\n",
    "plt.ylabel('Mean Fuel Cost Per Unit Burned') # Y axis label\n",
    "plt.title('Fig 5: Mean Fuel Cost Per Unit Burned Based on Fuel Types') #set title"
   ]
  },
  {
   "cell_type": "code",
   "execution_count": 29,
   "metadata": {
    "scrolled": false
   },
   "outputs": [
    {
     "data": {
      "text/plain": [
       "Text(0.5, 1.0, 'Fig 6: Mean Fuel Cost Per MMBTU Based on Fuel Types')"
      ]
     },
     "execution_count": 29,
     "metadata": {},
     "output_type": "execute_result"
    },
    {
     "data": {
      "image/png": "[encoded data removed]",
      "text/plain": [
       "<Figure size 864x504 with 1 Axes>"
      ]
     },
     "metadata": {
      "needs_background": "light"
     },
     "output_type": "display_data"
    }
   ],
   "source": [
    "plt.figure(figsize = (12,7)) # create a blank plot platform of size 12 x 7 (B x L, respectively)\n",
    "\n",
    "#create a barplot of mean fuel cost per mmbtu based on fuel types\n",
    "sns.barplot(data=mean_vals, x='fuel_type_code_pudl',y='fuel_cost_per_mmbtu')\n",
    "plt.xlabel('Fuel Type') # X axis label\n",
    "plt.ylabel('Mean Fuel Cost Per MMBTU') # Y axis label\n",
    "plt.title('Fig 6: Mean Fuel Cost Per MMBTU Based on Fuel Types') #set title"
   ]
  },
  {
   "cell_type": "code",
   "execution_count": 30,
   "metadata": {},
   "outputs": [
    {
     "data": {
      "text/plain": [
       "Text(0.5, 1.0, 'Fig 7: Mean Fuel Cost Per Unit Delivered Based on Fuel Types')"
      ]
     },
     "execution_count": 30,
     "metadata": {},
     "output_type": "execute_result"
    },
    {
     "data": {
      "image/png": "[encoded data removed]",
      "text/plain": [
       "<Figure size 864x504 with 1 Axes>"
      ]
     },
     "metadata": {
      "needs_background": "light"
     },
     "output_type": "display_data"
    }
   ],
   "source": [
    "plt.figure(figsize = (12,7)) # create a blank plot platform of size 12 x 7 (B x L, respectively)\n",
    "\n",
    "#create a barplot of mean fuel cost per unit delivered based on fuel types\n",
    "sns.barplot(data=mean_vals, x='fuel_type_code_pudl',y='fuel_cost_per_unit_delivered')\n",
    "plt.xlabel('Fuel Type') # X axis label\n",
    "plt.ylabel('Mean Fuel Cost Per Unit Delivered') # Y axis label\n",
    "plt.title('Fig 7: Mean Fuel Cost Per Unit Delivered Based on Fuel Types') #set title"
   ]
  },
  {
   "cell_type": "code",
   "execution_count": 31,
   "metadata": {},
   "outputs": [],
   "source": [
    "sum_by_year = fuel_data.groupby('report_year', as_index=False).sum()"
   ]
  },
  {
   "cell_type": "code",
   "execution_count": 32,
   "metadata": {},
   "outputs": [
    {
     "data": {
      "text/html": [
       "<div>\n",
       "<style scoped>\n",
       "    .dataframe tbody tr th:only-of-type {\n",
       "        vertical-align: middle;\n",
       "    }\n",
       "\n",
       "    .dataframe tbody tr th {\n",
       "        vertical-align: top;\n",
       "    }\n",
       "\n",
       "    .dataframe thead th {\n",
       "        text-align: right;\n",
       "    }\n",
       "</style>\n",
       "<table border=\"1\" class=\"dataframe\">\n",
       "  <thead>\n",
       "    <tr style=\"text-align: right;\">\n",
       "      <th></th>\n",
       "      <th>report_year</th>\n",
       "      <th>utility_id_ferc1</th>\n",
       "      <th>fuel_qty_burned</th>\n",
       "      <th>fuel_mmbtu_per_unit</th>\n",
       "      <th>fuel_cost_per_unit_burned</th>\n",
       "      <th>fuel_cost_per_unit_delivered</th>\n",
       "      <th>fuel_cost_per_mmbtu</th>\n",
       "      <th>total_fuel_cost</th>\n",
       "      <th>Total_energy_gen(kWh)</th>\n",
       "    </tr>\n",
       "  </thead>\n",
       "  <tbody>\n",
       "    <tr>\n",
       "      <th>0</th>\n",
       "      <td>1994</td>\n",
       "      <td>131059</td>\n",
       "      <td>3.364163e+09</td>\n",
       "      <td>13138.051620</td>\n",
       "      <td>263292.115</td>\n",
       "      <td>7.859053e+04</td>\n",
       "      <td>3812.41711</td>\n",
       "      <td>5.327818e+10</td>\n",
       "      <td>3.850382e+06</td>\n",
       "    </tr>\n",
       "    <tr>\n",
       "      <th>1</th>\n",
       "      <td>1995</td>\n",
       "      <td>132277</td>\n",
       "      <td>4.458192e+09</td>\n",
       "      <td>12784.441067</td>\n",
       "      <td>425661.488</td>\n",
       "      <td>3.931506e+04</td>\n",
       "      <td>3445.47398</td>\n",
       "      <td>6.613160e+10</td>\n",
       "      <td>3.746749e+06</td>\n",
       "    </tr>\n",
       "    <tr>\n",
       "      <th>2</th>\n",
       "      <td>1996</td>\n",
       "      <td>118281</td>\n",
       "      <td>2.768693e+09</td>\n",
       "      <td>11726.508078</td>\n",
       "      <td>86425.275</td>\n",
       "      <td>1.000602e+07</td>\n",
       "      <td>2933.11773</td>\n",
       "      <td>2.588083e+10</td>\n",
       "      <td>3.436699e+06</td>\n",
       "    </tr>\n",
       "    <tr>\n",
       "      <th>3</th>\n",
       "      <td>1997</td>\n",
       "      <td>118553</td>\n",
       "      <td>3.077973e+09</td>\n",
       "      <td>11210.909740</td>\n",
       "      <td>163533.452</td>\n",
       "      <td>1.218738e+07</td>\n",
       "      <td>3406.15391</td>\n",
       "      <td>1.203283e+11</td>\n",
       "      <td>3.285593e+06</td>\n",
       "    </tr>\n",
       "    <tr>\n",
       "      <th>4</th>\n",
       "      <td>1998</td>\n",
       "      <td>121599</td>\n",
       "      <td>3.617070e+09</td>\n",
       "      <td>11850.394701</td>\n",
       "      <td>140238.656</td>\n",
       "      <td>3.178799e+05</td>\n",
       "      <td>3072.87907</td>\n",
       "      <td>5.542562e+10</td>\n",
       "      <td>3.473007e+06</td>\n",
       "    </tr>\n",
       "  </tbody>\n",
       "</table>\n",
       "</div>"
      ],
      "text/plain": [
       "   report_year  utility_id_ferc1  fuel_qty_burned  fuel_mmbtu_per_unit  \\\n",
       "0         1994            131059     3.364163e+09         13138.051620   \n",
       "1         1995            132277     4.458192e+09         12784.441067   \n",
       "2         1996            118281     2.768693e+09         11726.508078   \n",
       "3         1997            118553     3.077973e+09         11210.909740   \n",
       "4         1998            121599     3.617070e+09         11850.394701   \n",
       "\n",
       "   fuel_cost_per_unit_burned  fuel_cost_per_unit_delivered  \\\n",
       "0                 263292.115                  7.859053e+04   \n",
       "1                 425661.488                  3.931506e+04   \n",
       "2                  86425.275                  1.000602e+07   \n",
       "3                 163533.452                  1.218738e+07   \n",
       "4                 140238.656                  3.178799e+05   \n",
       "\n",
       "   fuel_cost_per_mmbtu  total_fuel_cost  Total_energy_gen(kWh)  \n",
       "0           3812.41711     5.327818e+10           3.850382e+06  \n",
       "1           3445.47398     6.613160e+10           3.746749e+06  \n",
       "2           2933.11773     2.588083e+10           3.436699e+06  \n",
       "3           3406.15391     1.203283e+11           3.285593e+06  \n",
       "4           3072.87907     5.542562e+10           3.473007e+06  "
      ]
     },
     "execution_count": 32,
     "metadata": {},
     "output_type": "execute_result"
    }
   ],
   "source": [
    "sum_by_year.head()"
   ]
  },
  {
   "cell_type": "code",
   "execution_count": 33,
   "metadata": {},
   "outputs": [
    {
     "data": {
      "text/plain": [
       "Text(0.5, 1.0, 'Fig 8: Total Fuel Cost Per Unit Delivered Based on Report Year')"
      ]
     },
     "execution_count": 33,
     "metadata": {},
     "output_type": "execute_result"
    },
    {
     "data": {
      "image/png": "[encoded data removed]",
      "text/plain": [
       "<Figure size 864x504 with 1 Axes>"
      ]
     },
     "metadata": {
      "needs_background": "light"
     },
     "output_type": "display_data"
    }
   ],
   "source": [
    "plt.figure(figsize = (12,7)) # create a blank plot platform of size 12 x 7 (B x L, respectively)\n",
    "\n",
    "#create a barplot of the sum of fuel cost per unit delivered based on report year\n",
    "rep_year = sns.barplot(data=sum_by_year, x='report_year',y='fuel_cost_per_unit_delivered')\n",
    "#convert y axis to logarithm due to large values\n",
    "rep_year.set_yscale('log')\n",
    "\n",
    "#set range of y axis value\n",
    "rep_year.set_ylim(1,20000000)\n",
    "plt.xticks(rotation=75)\n",
    "plt.xlabel('Report Year') # X axis label\n",
    "plt.ylabel('Total Fuel Cost Per Unit Delivered') # Y axis label\n",
    "plt.title('Fig 8: Total Fuel Cost Per Unit Delivered Based on Report Year') #set title"
   ]
  },
  {
   "cell_type": "code",
   "execution_count": 34,
   "metadata": {},
   "outputs": [
    {
     "data": {
      "text/plain": [
       "Text(0.5, 1.0, 'Fig 9: Total Fuel Quantity Burned Based on Report Year')"
      ]
     },
     "execution_count": 34,
     "metadata": {},
     "output_type": "execute_result"
    },
    {
     "data": {
      "image/png": "[encoded data removed]",
      "text/plain": [
       "<Figure size 864x504 with 1 Axes>"
      ]
     },
     "metadata": {
      "needs_background": "light"
     },
     "output_type": "display_data"
    }
   ],
   "source": [
    "plt.figure(figsize = (12,7)) # create a blank plot platform of size 12 x 7 (B x L, respectively)\n",
    "\n",
    "#create a barplot of total fuel quantity burned based on report year\n",
    "rep_year1 = sns.barplot(data=sum_by_year, x='report_year',y='fuel_qty_burned')\n",
    "#convert y axis to logarithm due to large values\n",
    "rep_year1.set_yscale('log')\n",
    "\n",
    "#set range of y axis value\n",
    "rep_year1.set_ylim(1,50000000000)\n",
    "plt.xticks(rotation=75)\n",
    "plt.xlabel('Report Year') # X axis label\n",
    "plt.ylabel('Total Fuel Quantity Burned') # Y axis label\n",
    "plt.title('Fig 9: Total Fuel Quantity Burned Based on Report Year') #set title"
   ]
  },
  {
   "cell_type": "code",
   "execution_count": 35,
   "metadata": {},
   "outputs": [
    {
     "data": {
      "text/plain": [
       "Text(0.5, 1.0, 'Fig 10: Total Fuel Cost Based on Report Year')"
      ]
     },
     "execution_count": 35,
     "metadata": {},
     "output_type": "execute_result"
    },
    {
     "data": {
      "image/png": "[encoded data removed]",
      "text/plain": [
       "<Figure size 864x504 with 1 Axes>"
      ]
     },
     "metadata": {
      "needs_background": "light"
     },
     "output_type": "display_data"
    }
   ],
   "source": [
    "plt.figure(figsize = (12,7)) # create a blank plot platform of size 12 x 7 (B x L, respectively)\n",
    "\n",
    "#create a barplot of total fuel cost based on report year\n",
    "rep_year1 = sns.barplot(data=sum_by_year, x='report_year',y='total_fuel_cost')\n",
    "#convert y axis to logarithm due to large values\n",
    "rep_year1.set_yscale('log')\n",
    "\n",
    "#set range of y axis value\n",
    "rep_year1.set_ylim(1,5000000000000)\n",
    "plt.xticks(rotation=75)\n",
    "plt.xlabel('Report Year') # X axis label\n",
    "plt.ylabel('Total Fuel Cost') # Y axis label\n",
    "plt.title('Fig 10: Total Fuel Cost Based on Report Year') #set title"
   ]
  },
  {
   "cell_type": "code",
   "execution_count": 36,
   "metadata": {},
   "outputs": [
    {
     "data": {
      "text/plain": [
       "Text(0.5, 1.0, 'Fig 11: Total Energy Generation Based on Report Year')"
      ]
     },
     "execution_count": 36,
     "metadata": {},
     "output_type": "execute_result"
    },
    {
     "data": {
      "image/png": "[encoded data removed]",
      "text/plain": [
       "<Figure size 864x504 with 1 Axes>"
      ]
     },
     "metadata": {
      "needs_background": "light"
     },
     "output_type": "display_data"
    }
   ],
   "source": [
    "plt.figure(figsize = (12,7)) # create a blank plot platform of size 12 x 7 (B x L, respectively)\n",
    "\n",
    "#create a barplot of total energy generation based on report year\n",
    "rep_year2 = sns.barplot(data=sum_by_year, x='report_year',y='Total_energy_gen(kWh)')\n",
    "#convert y axis to logarithm due to large values\n",
    "rep_year2.set_yscale('log')\n",
    "\n",
    "#set range of y axis value\n",
    "rep_year2.set_ylim(1,300000000)\n",
    "plt.xticks(rotation=75)\n",
    "plt.xlabel('Report Year') # X axis label\n",
    "plt.ylabel('Total Energy Generation') # Y axis label\n",
    "plt.title('Fig 11: Total Energy Generation Based on Report Year') #set title"
   ]
  },
  {
   "cell_type": "code",
   "execution_count": 37,
   "metadata": {},
   "outputs": [],
   "source": [
    "fuel_usage = fuel_data.groupby(by=['report_year', 'fuel_type_code_pudl']).count()['record_id'].unstack()"
   ]
  },
  {
   "cell_type": "code",
   "execution_count": 38,
   "metadata": {},
   "outputs": [
    {
     "data": {
      "text/html": [
       "<div>\n",
       "<style scoped>\n",
       "    .dataframe tbody tr th:only-of-type {\n",
       "        vertical-align: middle;\n",
       "    }\n",
       "\n",
       "    .dataframe tbody tr th {\n",
       "        vertical-align: top;\n",
       "    }\n",
       "\n",
       "    .dataframe thead th {\n",
       "        text-align: right;\n",
       "    }\n",
       "</style>\n",
       "<table border=\"1\" class=\"dataframe\">\n",
       "  <thead>\n",
       "    <tr style=\"text-align: right;\">\n",
       "      <th>fuel_type_code_pudl</th>\n",
       "      <th>coal</th>\n",
       "      <th>gas</th>\n",
       "      <th>nuclear</th>\n",
       "      <th>oil</th>\n",
       "      <th>other</th>\n",
       "      <th>waste</th>\n",
       "    </tr>\n",
       "    <tr>\n",
       "      <th>report_year</th>\n",
       "      <th></th>\n",
       "      <th></th>\n",
       "      <th></th>\n",
       "      <th></th>\n",
       "      <th></th>\n",
       "      <th></th>\n",
       "    </tr>\n",
       "  </thead>\n",
       "  <tbody>\n",
       "    <tr>\n",
       "      <th>1994</th>\n",
       "      <td>475.0</td>\n",
       "      <td>487.0</td>\n",
       "      <td>71.0</td>\n",
       "      <td>166.0</td>\n",
       "      <td>12.0</td>\n",
       "      <td>24.0</td>\n",
       "    </tr>\n",
       "    <tr>\n",
       "      <th>1995</th>\n",
       "      <td>475.0</td>\n",
       "      <td>503.0</td>\n",
       "      <td>73.0</td>\n",
       "      <td>113.0</td>\n",
       "      <td>15.0</td>\n",
       "      <td>22.0</td>\n",
       "    </tr>\n",
       "    <tr>\n",
       "      <th>1996</th>\n",
       "      <td>431.0</td>\n",
       "      <td>426.0</td>\n",
       "      <td>41.0</td>\n",
       "      <td>160.0</td>\n",
       "      <td>8.0</td>\n",
       "      <td>22.0</td>\n",
       "    </tr>\n",
       "    <tr>\n",
       "      <th>1997</th>\n",
       "      <td>417.0</td>\n",
       "      <td>448.0</td>\n",
       "      <td>31.0</td>\n",
       "      <td>163.0</td>\n",
       "      <td>12.0</td>\n",
       "      <td>23.0</td>\n",
       "    </tr>\n",
       "    <tr>\n",
       "      <th>1998</th>\n",
       "      <td>431.0</td>\n",
       "      <td>515.0</td>\n",
       "      <td>57.0</td>\n",
       "      <td>68.0</td>\n",
       "      <td>16.0</td>\n",
       "      <td>20.0</td>\n",
       "    </tr>\n",
       "  </tbody>\n",
       "</table>\n",
       "</div>"
      ],
      "text/plain": [
       "fuel_type_code_pudl   coal    gas  nuclear    oil  other  waste\n",
       "report_year                                                    \n",
       "1994                 475.0  487.0     71.0  166.0   12.0   24.0\n",
       "1995                 475.0  503.0     73.0  113.0   15.0   22.0\n",
       "1996                 431.0  426.0     41.0  160.0    8.0   22.0\n",
       "1997                 417.0  448.0     31.0  163.0   12.0   23.0\n",
       "1998                 431.0  515.0     57.0   68.0   16.0   20.0"
      ]
     },
     "execution_count": 38,
     "metadata": {},
     "output_type": "execute_result"
    }
   ],
   "source": [
    "fuel_usage.head()"
   ]
  },
  {
   "cell_type": "code",
   "execution_count": 39,
   "metadata": {},
   "outputs": [
    {
     "data": {
      "text/plain": [
       "Text(0.5, 1.0, 'Fig 12: Number of Plants Using Each Fuel Type')"
      ]
     },
     "execution_count": 39,
     "metadata": {},
     "output_type": "execute_result"
    },
    {
     "data": {
      "image/png": "[encoded data removed]",
      "text/plain": [
       "<Figure size 864x504 with 1 Axes>"
      ]
     },
     "metadata": {
      "needs_background": "light"
     },
     "output_type": "display_data"
    }
   ],
   "source": [
    "fuel_usage.plot(figsize=(12,7))\n",
    "plt.legend()\n",
    "plt.xlabel('Report Year') # X axis label\n",
    "plt.ylabel('Number of Plants') # Y axis label\n",
    "plt.title('Fig 12: Number of Plants Using Each Fuel Type') #set title"
   ]
  },
  {
   "cell_type": "code",
   "execution_count": 40,
   "metadata": {},
   "outputs": [
    {
     "data": {
      "text/plain": [
       "Text(0.5, 1.0, 'Fig 13: Number of Plants Using Each Fuel Type')"
      ]
     },
     "execution_count": 40,
     "metadata": {},
     "output_type": "execute_result"
    },
    {
     "data": {
      "image/png": "[encoded data removed]",
      "text/plain": [
       "<Figure size 864x504 with 2 Axes>"
      ]
     },
     "metadata": {
      "needs_background": "light"
     },
     "output_type": "display_data"
    }
   ],
   "source": [
    "plt.figure(figsize=(12,7))\n",
    "sns.heatmap(data = fuel_usage)\n",
    "plt.xlabel('Fuel Type') # X axis label\n",
    "plt.ylabel('Report Year') # Y axis label\n",
    "plt.title('Fig 13: Number of Plants Using Each Fuel Type') #set title"
   ]
  },
  {
   "cell_type": "code",
   "execution_count": 41,
   "metadata": {},
   "outputs": [
    {
     "data": {
      "text/plain": [
       "Text(0.5, 1.0, 'Number of Plants')"
      ]
     },
     "execution_count": 41,
     "metadata": {},
     "output_type": "execute_result"
    },
    {
     "data": {
      "image/png": "[encoded data removed]",
      "text/plain": [
       "<Figure size 720x720 with 4 Axes>"
      ]
     },
     "metadata": {
      "needs_background": "light"
     },
     "output_type": "display_data"
    }
   ],
   "source": [
    "sns.clustermap(fuel_usage.dropna())\n",
    "plt.title('Number of Plants') #set title"
   ]
  },
  {
   "cell_type": "code",
   "execution_count": null,
   "metadata": {},
   "outputs": [],
   "source": []
  }
 ],
 "metadata": {
  "kernelspec": {
   "display_name": "Python 3",
   "language": "python",
   "name": "python3"
  },
  "language_info": {
   "codemirror_mode": {
    "name": "ipython",
    "version": 3
   },
   "file_extension": ".py",
   "mimetype": "text/x-python",
   "name": "python",
   "nbconvert_exporter": "python",
   "pygments_lexer": "ipython3",
   "version": "3.7.4"
  }
 },
 "nbformat": 4,
 "nbformat_minor": 4
}
